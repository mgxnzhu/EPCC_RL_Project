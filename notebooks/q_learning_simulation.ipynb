{
 "cells": [
  {
   "cell_type": "code",
   "execution_count": 7,
   "metadata": {},
   "outputs": [
    {
     "name": "stdout",
     "output_type": "stream",
     "text": [
      "\u001b[33mWARN: gym.spaces.Box autodetected dtype as <class 'numpy.float32'>. Please provide explicit dtype.\u001b[0m\n",
      "\u001b[33mWARN: gym.spaces.Box autodetected dtype as <class 'numpy.float32'>. Please provide explicit dtype.\u001b[0m\n"
     ]
    }
   ],
   "source": [
    "from osim.env import L2RunEnv\n",
    "import numpy as np\n",
    "from scipy.optimize import minimize, Bounds\n",
    "\n",
    "DEFAULT_SEED = 20180101\n",
    "rng = np.random.RandomState(DEFAULT_SEED)\n",
    "\n",
    "env = L2RunEnv(visualize=False)\n",
    "# Obtain the dimension observation space and action space\n",
    "dim_obs = env.get_observation_space_size()\n",
    "dim_act = env.get_action_space_size()"
   ]
  },
  {
   "cell_type": "code",
   "execution_count": 8,
   "metadata": {},
   "outputs": [],
   "source": [
    "class qfunction:\n",
    "    def __init__(self, dim_obs, dim_act, rng=None):\n",
    "        if rng is None:\n",
    "            rng = np.random.RandomState(DEFAULT_SEED)\n",
    "        self.rng = rng\n",
    "        \n",
    "        self.dim_obs = dim_obs\n",
    "        self.dim_act = dim_act\n",
    "        self.obs_coeff = rng.uniform(-1, 1, dim_obs)\n",
    "        self.act_coeff = rng.uniform(-1, 1, dim_act)\n",
    "        \n",
    "    def __call__(self, obs, act):\n",
    "        obs_term = obs * self.obs_coeff\n",
    "        act_term = act * self.act_coeff\n",
    "        res = np.sum(obs_term) + np.sum(act_term)\n",
    "        return res\n",
    "    \n",
    "    def action_func(self, obs):\n",
    "        func = lambda act: -self(obs, act) # take opposite value for minimization\n",
    "        return func\n",
    "    \n",
    "    def update(self, coeff):\n",
    "        self.obs_coeff = coeff[:self.dim_obs]\n",
    "        self.act_coeff = coeff[self.dim_obs:]"
   ]
  },
  {
   "cell_type": "code",
   "execution_count": 9,
   "metadata": {
    "scrolled": true
   },
   "outputs": [],
   "source": [
    "model = np.load(\"model.npy\")\n",
    "qf = qfunction(dim_obs, dim_act)\n",
    "qf.update(model)\n",
    "action0 = np.zeros(dim_act)\n",
    "\n",
    "# Initialize a new simulation\n",
    "state = env.reset()\n",
    "reward = 0\n",
    "\n",
    "# Run the simulation until the framework stop it\n",
    "done = False\n",
    "while not done:\n",
    "    # get the action based on Q function\n",
    "    action_func = lambda x: -qf(state, x)\n",
    "    bnds = Bounds(-1,1)\n",
    "    res = minimize(action_func, action0, method='SLSQP', bounds=bnds)\n",
    "    action = res.x\n",
    "\n",
    "    # evolve the system to the next time stamp\n",
    "    state, reward, done, info = env.step(action)"
   ]
  },
  {
   "cell_type": "code",
   "execution_count": null,
   "metadata": {},
   "outputs": [],
   "source": []
  }
 ],
 "metadata": {
  "kernelspec": {
   "display_name": "py3_osim_rl",
   "language": "python",
   "name": "opensim-rl"
  },
  "language_info": {
   "codemirror_mode": {
    "name": "ipython",
    "version": 3
   },
   "file_extension": ".py",
   "mimetype": "text/x-python",
   "name": "python",
   "nbconvert_exporter": "python",
   "pygments_lexer": "ipython3",
   "version": "3.6.1"
  }
 },
 "nbformat": 4,
 "nbformat_minor": 2
}
