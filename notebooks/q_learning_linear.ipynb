{
 "cells": [
  {
   "cell_type": "markdown",
   "metadata": {},
   "source": [
    "# Q learning - Linear Regression Attempt\n",
    "In Q learning, the update rule is:\n",
    "$$Q(\\mathbf{s},\\mathbf{a}) = Q(\\mathbf{s},\\mathbf{a}) + \\alpha (r+\\gamma max_{a'} Q(\\mathbf{s}',\\mathbf{a}') - Q(\\mathbf{s},\\mathbf{a}))$$\n",
    "If the Q function reached the best, there would be nothing more to learn. Hence, we wanted to make $r+\\gamma max_{a'} Q(\\mathbf{s}',\\mathbf{a}') - Q(\\mathbf{s},\\mathbf{a})$ close to 0. Then the problem became fitting the dataset: [$r+\\gamma max_{a'} Q(\\mathbf{s}',\\mathbf{a}')$, $Q(\\mathbf{s},\\mathbf{a})$]. In every step of environment evolution, the [$r+\\gamma max_{a'} Q(\\mathbf{s}',\\mathbf{a}')$, $Q(\\mathbf{s},\\mathbf{a})$] pair can form a dataset for fitting.\n",
    "The most basic fitting problem is linear regression. The first attempt is to fit the dataset to a linear model: $$Q(\\mathbf{s},\\mathbf{a})=\\sum_{i}{A_i V_i},$$ where $\\mathbf{V}=(\\mathbf{s},\\mathbf{a})$ and $A_i$ are constants."
   ]
  },
  {
   "cell_type": "code",
   "execution_count": 1,
   "metadata": {},
   "outputs": [
    {
     "name": "stdout",
     "output_type": "stream",
     "text": [
      "\u001b[33mWARN: gym.spaces.Box autodetected dtype as <class 'numpy.float32'>. Please provide explicit dtype.\u001b[0m\n",
      "\u001b[33mWARN: gym.spaces.Box autodetected dtype as <class 'numpy.float32'>. Please provide explicit dtype.\u001b[0m\n"
     ]
    }
   ],
   "source": [
    "from osim.env import L2RunEnv\n",
    "import numpy as np\n",
    "from scipy.optimize import minimize, Bounds\n",
    "from sklearn.linear_model import LinearRegression, SGDRegressor\n",
    "\n",
    "DEFAULT_SEED = 20180101\n",
    "rng = np.random.RandomState(DEFAULT_SEED)\n",
    "\n",
    "env = L2RunEnv(visualize=False)\n",
    "# Obtain the dimension observation space and action space\n",
    "dim_obs = env.get_observation_space_size()\n",
    "dim_act = env.get_action_space_size()\n",
    "\n",
    "# Set the range of action values\n",
    "action_low = env.action_space.low\n",
    "action_high = env.action_space.high # bounds of action space by env\n",
    "bnds = Bounds(action_low, action_high)\n",
    "\n",
    "# Set hyperparameters\n",
    "discount = 1e-2\n",
    "learning_rate = 1e-4 \n",
    "epsilon = 0.1\n",
    "episode = 2000\n",
    "batch_size = 10"
   ]
  },
  {
   "cell_type": "code",
   "execution_count": 2,
   "metadata": {},
   "outputs": [],
   "source": [
    "class qfunction:\n",
    "    # A class to store the coefficents of linear function\n",
    "    \n",
    "    def __init__(self, dim_obs, dim_act, rng=None):\n",
    "        # randomly initialize coefficents\n",
    "        \n",
    "        if rng is None:\n",
    "            rng = np.random.RandomState(DEFAULT_SEED)\n",
    "        self.rng = rng\n",
    "        \n",
    "        self.dim_obs = dim_obs\n",
    "        self.dim_act = dim_act\n",
    "        self.dim = dim_obs + dim_act\n",
    "        # Only take one step when fitting\n",
    "        self.model = SGDRegressor(penalty='none', learning_rate='constant', eta0=learning_rate, random_state=rng, max_iter=1)\n",
    "        #xdata = rng.rand(batch_size, self.dim)\n",
    "        #ydata = rng.rand(batch_size, )\n",
    "        #self.model.partial_fit(xdata, ydata)\n",
    "        self.model.coef_ = rng.rand(self.dim)\n",
    "        self.model.intercept_ = rng.rand(1,)\n",
    "        print(\"Model Initialized!\")\n",
<<<<<<< HEAD
=======
    "        # Since SGDRegressor does not provide a method to feed the coefficients, which is needed in the beginning to calculate Q function value, here used random dataset to fit the model for a set of coefficients \n",
>>>>>>> 71defbcdb9d268e32f5959aa6e2deef65597c7e6
    "        \n",
    "    def __call__(self, obs, act):\n",
    "        # input states and action, return value of q function\n",
    "        X = np.concatenate((obs, act))\n",
    "        res = np.sum(X * self.model.coef_) + np.asscalar(self.model.intercept_)\n",
    "        #res = self.model.predict(X)\n",
    "        return res\n",
    "        \n",
    "    def get_maxq(self, state_):\n",
    "        # get maximum of Q(s', a') under given s'\n",
    "        action_func = lambda x: -self(state_, x)\n",
    "        action0 = 0.5 * np.ones(self.dim_act) # the center of action space\n",
    "        res = minimize(action_func, action0, method='SLSQP', bounds=bnds)\n",
    "        # note: https://en.wikipedia.org/wiki/Sequential_quadratic_programming\n",
    "        max_q = -res.fun # max Q(s', a')\n",
    "        return max_q"
   ]
  },
  {
   "cell_type": "code",
   "execution_count": 3,
   "metadata": {
    "scrolled": true
   },
   "outputs": [
    {
     "name": "stdout",
     "output_type": "stream",
     "text": [
      "Model Initialized!\n"
     ]
    }
   ],
   "source": [
    "# Initialize Q function\n",
    "qf = qfunction(dim_obs, dim_act)\n",
    "\n",
    "# Initialize the dataset:(xdata, ydata)\n",
    "xdata = np.zeros((batch_size, qf.dim))\n",
    "ydata = np.zeros((batch_size, ))"
   ]
  },
  {
   "cell_type": "code",
   "execution_count": null,
   "metadata": {
    "scrolled": false
   },
   "outputs": [
    {
     "name": "stdout",
     "output_type": "stream",
     "text": [
      "<built-in function Manager_integrate> returned a result with an error set\n"
     ]
    }
   ],
   "source": [
    "action0 = 0.5 * np.ones(qf.dim_act)\n",
    "for i in range(episode):\n",
    "    # Initialize a new simulation\n",
    "    state = np.array(env.reset())\n",
    "    reward = 0\n",
    "    # Run the simulation until the framework stop it\n",
    "    done = False\n",
    "    j = 0 # index of data in batch\n",
    "    while not done:\n",
    "        \n",
    "        # get the action based on Q function and epsilon greedy\n",
    "        if (rng.rand() < epsilon) :\n",
    "            # exploration: randomly choose an action\n",
    "            action = rng.uniform(action_low, action_high, dim_act)\n",
    "        else:\n",
    "            # exploitation: choose the action maximumizing Q function\n",
    "            action_func = lambda x: -qf(state, x)\n",
    "            bnds = Bounds(action_low, action_high)\n",
    "            res = minimize(action_func, action0, method='SLSQP', bounds=bnds)\n",
    "            action = res.x\n",
    "        '''\n",
    "        # randomly choose an action\n",
    "        action = rng.uniform(action_low, action_high, dim_act)\n",
    "        '''\n",
    "\n",
    "        # evolve the system to the next time step\n",
    "        state_, reward, done, info = env.step(action)\n",
    "        state_ = np.array(state_)\n",
    "\n",
    "        max_q = qf.get_maxq(state_)\n",
    "        \n",
    "        # {s, a} and [r + gamma * max_a` Q(s`, a`)]\n",
    "        xx = np.concatenate((state, action))\n",
    "        yy = np.array(reward + discount * max_q)\n",
    "        \n",
    "        # put the data point into data batch\n",
    "        xdata[j] = xx\n",
    "        ydata[j] = yy\n",
    "        \n",
    "        if (j + 1) == batch_size :\n",
    "            # Do linear fitting and update Q function coefficients\n",
    "            qf.model.partial_fit(xdata, ydata)\n",
    "            # reset count for next data batch\n",
    "            j = -1\n",
    "        \n",
    "        # Update state\n",
    "        state = state_\n",
    "        j = j + 1"
   ]
  },
  {
   "cell_type": "code",
   "execution_count": null,
   "metadata": {},
   "outputs": [],
   "source": [
    "model_coeff = np.hstack((qf.model.coef_, qf.model.intercept_))\n",
    "np.savetxt(\"model.csv\", model_coeff, delimiter=\",\")"
   ]
  },
  {
   "cell_type": "code",
   "execution_count": null,
   "metadata": {},
   "outputs": [],
   "source": []
  }
 ],
 "metadata": {
  "kernelspec": {
   "display_name": "py3_osim_rl",
   "language": "python",
   "name": "opensim-rl"
  },
  "language_info": {
   "codemirror_mode": {
    "name": "ipython",
    "version": 3
   },
   "file_extension": ".py",
   "mimetype": "text/x-python",
   "name": "python",
   "nbconvert_exporter": "python",
   "pygments_lexer": "ipython3",
   "version": "3.6.1"
  }
 },
 "nbformat": 4,
 "nbformat_minor": 2
}
