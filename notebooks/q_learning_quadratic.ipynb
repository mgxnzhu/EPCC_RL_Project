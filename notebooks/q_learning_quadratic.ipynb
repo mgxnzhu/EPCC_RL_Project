{
 "cells": [
  {
   "cell_type": "markdown",
   "metadata": {},
   "source": [
    "# Q learning - Non-linear Regression Attempt\n",
    "In Q learning, the update rule is:\n",
    "$$Q(\\mathbf{s},\\mathbf{a}) = Q(\\mathbf{s},\\mathbf{a}) + \\alpha (r+\\gamma max_{\\mathbf{a}'} Q(\\mathbf{s}',\\mathbf{a}') - Q(\\mathbf{s},\\mathbf{a}))$$\n",
    "If the Q function reached the best, there would be nothing more to learn. Hence, we wanted to make $r+\\gamma max_{\\mathbf{a}'} Q(\\mathbf{s}',\\mathbf{a}') - Q(\\mathbf{s},\\mathbf{a})$ close to 0. Then the problem became fitting the dataset: [$r+\\gamma max_{\\mathbf{a}'} Q(\\mathbf{s}',\\mathbf{a}')$, $Q(\\mathbf{s},\\mathbf{a})$]. In every step of environment evolution, the [$r+\\gamma max_{\\mathbf{a}'} Q(\\mathbf{s}',\\mathbf{a}')$, $Q(\\mathbf{s},\\mathbf{a})$] pair can form a dataset for fitting.\n",
    "When using linear attempt, the problem is that the maximum Q is always at the bound of the action space, and the maximum value does not depend on state $\\mathbf{s}$. To avoid these, we wanted a Q function with non-zero second order derivative, and the simplest one is quadratic function.\n",
    "$$Q(s,a)=\\sum_{i\\leq j}a_{ij}\\mathbf{V}_i\\mathbf{V}_j, \\mathbf{V}=(\\mathbf{s},\\mathbf{a})$$\n",
    "or\n",
    "$$Q(s,a)=\\sum_{i,j}b_{ij}\\mathbf{V}_i\\mathbf{V}_j, \\mathbf{V}=(\\mathbf{s},\\mathbf{a})\\ and\\  b_{ij}=b_{ji}$$"
   ]
  },
  {
   "cell_type": "code",
   "execution_count": 1,
   "metadata": {},
   "outputs": [
    {
     "name": "stdout",
     "output_type": "stream",
     "text": [
      "\u001b[33mWARN: gym.spaces.Box autodetected dtype as <class 'numpy.float32'>. Please provide explicit dtype.\u001b[0m\n",
      "\u001b[33mWARN: gym.spaces.Box autodetected dtype as <class 'numpy.float32'>. Please provide explicit dtype.\u001b[0m\n"
     ]
    }
   ],
   "source": [
    "from osim.env import L2RunEnv\n",
    "import numpy as np\n",
    "from scipy.optimize import minimize, Bounds\n",
    "from sklearn.linear_model import LinearRegression\n",
    "\n",
    "DEFAULT_SEED = 20180101\n",
    "rng = np.random.RandomState(DEFAULT_SEED)\n",
    "\n",
    "env = L2RunEnv(visualize=False)\n",
    "# Obtain the dimension observation space and action space\n",
    "dim_obs = env.get_observation_space_size()\n",
    "dim_act = env.get_action_space_size()\n",
    "\n",
    "# Set the range of action values\n",
    "action_low = -0.1\n",
    "action_high = 0.1\n",
    "\n",
    "# Set hyperparameters\n",
    "discount = 0.0001\n",
    "epsilon = 0.9\n",
    "episode = 2000"
   ]
  },
  {
   "cell_type": "markdown",
   "metadata": {},
   "source": [
    "## Q function\n",
    "Q function in this section is the linear combination of productions of each states and action components, since we want the state can affect the maximum of action: $\\frac{\\partial^2Q}{\\partial s_i \\partial a_j}\\neq 0$. We stored the coefficients of these quadratic terms and updated them during linear fitting, which fit the data pair $[\\{V_iV_j\\}, Q]$, where $\\mathbf{V}=(\\mathbf{s}, \\mathbf{a})$."
   ]
  },
  {
   "cell_type": "code",
   "execution_count": 9,
   "metadata": {},
   "outputs": [],
   "source": [
    "class qfunction:\n",
    "    # random initialization\n",
    "    def __init__(self, dim_obs, dim_act, rng=None):\n",
    "        if rng is None:\n",
    "            rng = np.random.RandomState(DEFAULT_SEED)\n",
    "        self.rng = rng\n",
    "        self.dim = (dim_obs + dim_act + 1) * (dim_obs + dim_act) // 2\n",
    "        self.coeff = rng.uniform(-1, 1, self.dim)\n",
    "\n",
    "    def __call__(self, obs, act):\n",
    "        con_vec = np.concatenate((obs,act))\n",
    "        quad_vec = quadartic(con_vec)\n",
    "        res = np.sum(quad_vec*self.coeff)\n",
    "        return res\n",
    "\n",
    "    def update(self, coeff):\n",
    "        self.coeff = coeff\n",
    "        \n",
    "def quadartic(vec):\n",
    "    # covert (x1, x2, x3, ...) to (x1^2, x1x2, x1x3, ..., x2^2, x2x3, ...)\n",
    "    if not isinstance(vec, np.ndarray):\n",
    "        vec = np.array(vec)\n",
    "    res = []\n",
    "    for i, x in enumerate(vec):\n",
    "        res = np.concatenate((res, x*vec[i:]))\n",
    "    return res"
   ]
  },
  {
   "cell_type": "code",
   "execution_count": 10,
   "metadata": {
    "scrolled": true
   },
   "outputs": [],
   "source": [
    "# Initialize Q function\n",
    "qf = qfunction(dim_obs, dim_act)\n",
    "model = LinearRegression(fit_intercept=False)\n",
    "# Initialize the dataset:(xdata, ydata)\n",
    "xdata = np.zeros((qf.dim,))\n",
    "ydata = np.zeros((1,))"
   ]
  },
  {
   "cell_type": "code",
   "execution_count": null,
   "metadata": {
    "scrolled": false
   },
   "outputs": [],
   "source": [
    "action0 = np.zeros(dim_act)\n",
    "for i in range(episode):\n",
    "    # Initialize a new simulation\n",
    "    state = np.array(env.reset())\n",
    "    reward = 0\n",
    "\n",
    "    # Run the simulation until the framework stop it\n",
    "    done = False\n",
    "    while not done:\n",
    "        # get the action based on Q function and epsilon greedy\n",
    "        if (rng.rand() < epsilon) :\n",
    "            # exploration: randomly choose an action\n",
    "            action = rng.uniform(action_low, action_high, dim_act)\n",
    "        else:\n",
    "            # exploitation: choose the action maximumizing Q function\n",
    "            action_func = lambda x: -qf(state, x)\n",
    "            bnds = Bounds(action_low, action_high)\n",
    "            res = minimize(action_func, action0, method='SLSQP', bounds=bnds)\n",
    "            action = res.x\n",
    "\n",
    "        # evolve the system to the next time stamp\n",
    "        state_, reward, done, info = env.step(action)\n",
    "        state_ = np.array(state_)\n",
    "\n",
    "        # build the dataset\n",
    "        action_func = lambda x: -qf(state_, x)\n",
    "        bnds = Bounds(action_low, action_high)\n",
    "        res = minimize(action_func, action0, method='SLSQP', bounds=bnds)\n",
    "        max_q = -res.fun\n",
    "        # {s, a} and [r + gamma * max_a` Q(s`, a`)]\n",
    "        xx = quadartic(np.concatenate((state, action)))\n",
    "        yy = np.array(reward + discount * max_q)\n",
    "        # put the data point into dataset\n",
    "        xdata = np.vstack((xdata, xx))\n",
    "        ydata = np.vstack((ydata, yy))\n",
    "\n",
    "        # Do linear regression and update Q function\n",
    "        model.fit(xdata, ydata)\n",
    "        qf.update(model.coef_.T)\n",
    "\n",
    "        # Update state\n",
    "        state = state_"
   ]
  },
  {
   "cell_type": "code",
   "execution_count": null,
   "metadata": {},
   "outputs": [],
   "source": []
  }
 ],
 "metadata": {
  "kernelspec": {
   "display_name": "py3_osim_rl",
   "language": "python",
   "name": "opensim-rl"
  },
  "language_info": {
   "codemirror_mode": {
    "name": "ipython",
    "version": 3
   },
   "file_extension": ".py",
   "mimetype": "text/x-python",
   "name": "python",
   "nbconvert_exporter": "python",
   "pygments_lexer": "ipython3",
   "version": "3.6.1"
  }
 },
 "nbformat": 4,
 "nbformat_minor": 2
}
