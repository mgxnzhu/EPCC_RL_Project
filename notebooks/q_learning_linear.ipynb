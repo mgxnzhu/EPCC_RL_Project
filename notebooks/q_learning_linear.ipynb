{
 "cells": [
  {
   "cell_type": "markdown",
   "metadata": {},
   "source": [
    "# Q learning - Linear Regression Attempt\n",
    "In Q learning, the update rule is:\n",
    "$$Q(\\mathbf{s},\\mathbf{a}) = Q(\\mathbf{s},\\mathbf{a}) + \\alpha (r+\\gamma max_{a'} Q(\\mathbf{s}',\\mathbf{a}') - Q(\\mathbf{s},\\mathbf{a}))$$\n",
    "If the Q function reached the best, there would be nothing more to learn. Hence, we wanted to make $r+\\gamma max_{a'} Q(\\mathbf{s}',\\mathbf{a}') - Q(\\mathbf{s},\\mathbf{a})$ close to 0. Then the problem became fitting the dataset: [$r+\\gamma max_{a'} Q(\\mathbf{s}',\\mathbf{a}')$, $Q(\\mathbf{s},\\mathbf{a})$]. In every step of environment evolution, the [$r+\\gamma max_{a'} Q(\\mathbf{s}',\\mathbf{a}')$, $Q(\\mathbf{s},\\mathbf{a})$] pair can form a dataset for fitting.\n",
    "The most basic fitting problem is linear regression. The first attempt is to fit the dataset to a linear model: $$Q(\\mathbf{s},\\mathbf{a})=\\sum_{i}{A_i V_i},$$ where $\\mathbf{V}=(\\mathbf{s},\\mathbf{a})$ and $A_i$ are constants."
   ]
  },
  {
   "cell_type": "code",
   "execution_count": 20,
   "metadata": {},
   "outputs": [
    {
     "name": "stdout",
     "output_type": "stream",
     "text": [
      "\u001b[33mWARN: gym.spaces.Box autodetected dtype as <class 'numpy.float32'>. Please provide explicit dtype.\u001b[0m\n",
      "\u001b[33mWARN: gym.spaces.Box autodetected dtype as <class 'numpy.float32'>. Please provide explicit dtype.\u001b[0m\n"
     ]
    }
   ],
   "source": [
    "from osim.env import L2RunEnv\n",
    "import numpy as np\n",
    "from scipy.optimize import minimize, Bounds\n",
    "from sklearn.linear_model import LinearRegression\n",
    "\n",
    "DEFAULT_SEED = 20180101\n",
    "rng = np.random.RandomState(DEFAULT_SEED)\n",
    "\n",
    "env = L2RunEnv(visualize=False)\n",
    "# Obtain the dimension observation space and action space\n",
    "dim_obs = env.get_observation_space_size()\n",
    "dim_act = env.get_action_space_size()\n",
    "\n",
    "# Set the range of action values\n",
    "action_low = -0.1\n",
    "action_high = 0.1\n",
    "bnds = Bounds(action_low, action_high)\n",
    "\n",
    "# Set hyperparameters\n",
    "discount = 0.0001\n",
    "epsilon = 1\n",
    "episode = 2000"
   ]
  },
  {
   "cell_type": "code",
   "execution_count": 21,
   "metadata": {},
   "outputs": [],
   "source": [
    "class qfunction:\n",
    "    # A class to store the coefficents of linear function\n",
    "    \n",
    "    def __init__(self, dim_obs, dim_act, rng=None):\n",
    "        # randomly initialize coefficents\n",
    "        \n",
    "        if rng is None:\n",
    "            rng = np.random.RandomState(DEFAULT_SEED)\n",
    "        self.rng = rng\n",
    "        \n",
    "        self.dim_obs = dim_obs\n",
    "        self.dim_act = dim_act\n",
    "        self.dim = dim_obs + dim_act\n",
    "        self.coeff = rng.uniform(-1, 1, self.dim)\n",
    "\n",
    "    def __call__(self, obs, act):\n",
    "        # input states and action, return value of q function\n",
    "        obs_part = obs * self.coeff[:self.dim_obs]\n",
    "        act_part = act * self.coeff[self.dim_obs:]\n",
    "        res = np.sum(obs_part) + np.sum(act_part)\n",
    "        return res\n",
    "\n",
    "    def set_coeff(self, coeff):\n",
    "        # set coefficients of q function\n",
    "        self.coeff = coeff"
   ]
  },
  {
   "cell_type": "code",
   "execution_count": 22,
   "metadata": {
    "scrolled": true
   },
   "outputs": [
    {
     "name": "stdout",
     "output_type": "stream",
     "text": [
      "(59,) (1,)\n"
     ]
    }
   ],
   "source": [
    "# Initialize Q function\n",
    "qf = qfunction(dim_obs, dim_act)\n",
    "model = LinearRegression(fit_intercept=False)\n",
    "# Initialize the dataset:(xdata, ydata)\n",
    "xdata = np.zeros((qf.dim,))\n",
    "ydata = np.zeros((1,))\n",
    "print(xdata.shape, ydata.shape)"
   ]
  },
  {
   "cell_type": "code",
   "execution_count": 23,
   "metadata": {
    "scrolled": false
   },
   "outputs": [
    {
     "ename": "ValueError",
     "evalue": "Input contains NaN, infinity or a value too large for dtype('float64').",
     "output_type": "error",
     "traceback": [
      "\u001b[0;31m---------------------------------------------------------------------------\u001b[0m",
      "\u001b[0;31mValueError\u001b[0m                                Traceback (most recent call last)",
      "\u001b[0;32m<ipython-input-23-120c0b80b77e>\u001b[0m in \u001b[0;36m<module>\u001b[0;34m()\u001b[0m\n\u001b[1;32m     41\u001b[0m \u001b[0;34m\u001b[0m\u001b[0m\n\u001b[1;32m     42\u001b[0m         \u001b[0;31m# Do linear fitting and update Q function coefficients\u001b[0m\u001b[0;34m\u001b[0m\u001b[0;34m\u001b[0m\u001b[0m\n\u001b[0;32m---> 43\u001b[0;31m         \u001b[0mmodel\u001b[0m\u001b[0;34m.\u001b[0m\u001b[0mfit\u001b[0m\u001b[0;34m(\u001b[0m\u001b[0mxdata\u001b[0m\u001b[0;34m,\u001b[0m \u001b[0mydata\u001b[0m\u001b[0;34m)\u001b[0m\u001b[0;34m\u001b[0m\u001b[0m\n\u001b[0m\u001b[1;32m     44\u001b[0m         \u001b[0mqf\u001b[0m\u001b[0;34m.\u001b[0m\u001b[0mset_coeff\u001b[0m\u001b[0;34m(\u001b[0m\u001b[0mmodel\u001b[0m\u001b[0;34m.\u001b[0m\u001b[0mcoef_\u001b[0m\u001b[0;34m.\u001b[0m\u001b[0mT\u001b[0m\u001b[0;34m)\u001b[0m\u001b[0;34m\u001b[0m\u001b[0m\n\u001b[1;32m     45\u001b[0m \u001b[0;34m\u001b[0m\u001b[0m\n",
      "\u001b[0;32m~/anaconda3/envs/opensim-rl/lib/python3.6/site-packages/sklearn/linear_model/base.py\u001b[0m in \u001b[0;36mfit\u001b[0;34m(self, X, y, sample_weight)\u001b[0m\n\u001b[1;32m    480\u001b[0m         \u001b[0mn_jobs_\u001b[0m \u001b[0;34m=\u001b[0m \u001b[0mself\u001b[0m\u001b[0;34m.\u001b[0m\u001b[0mn_jobs\u001b[0m\u001b[0;34m\u001b[0m\u001b[0m\n\u001b[1;32m    481\u001b[0m         X, y = check_X_y(X, y, accept_sparse=['csr', 'csc', 'coo'],\n\u001b[0;32m--> 482\u001b[0;31m                          y_numeric=True, multi_output=True)\n\u001b[0m\u001b[1;32m    483\u001b[0m \u001b[0;34m\u001b[0m\u001b[0m\n\u001b[1;32m    484\u001b[0m         \u001b[0;32mif\u001b[0m \u001b[0msample_weight\u001b[0m \u001b[0;32mis\u001b[0m \u001b[0;32mnot\u001b[0m \u001b[0;32mNone\u001b[0m \u001b[0;32mand\u001b[0m \u001b[0mnp\u001b[0m\u001b[0;34m.\u001b[0m\u001b[0matleast_1d\u001b[0m\u001b[0;34m(\u001b[0m\u001b[0msample_weight\u001b[0m\u001b[0;34m)\u001b[0m\u001b[0;34m.\u001b[0m\u001b[0mndim\u001b[0m \u001b[0;34m>\u001b[0m \u001b[0;36m1\u001b[0m\u001b[0;34m:\u001b[0m\u001b[0;34m\u001b[0m\u001b[0m\n",
      "\u001b[0;32m~/anaconda3/envs/opensim-rl/lib/python3.6/site-packages/sklearn/utils/validation.py\u001b[0m in \u001b[0;36mcheck_X_y\u001b[0;34m(X, y, accept_sparse, dtype, order, copy, force_all_finite, ensure_2d, allow_nd, multi_output, ensure_min_samples, ensure_min_features, y_numeric, warn_on_dtype, estimator)\u001b[0m\n\u001b[1;32m    574\u001b[0m     \u001b[0;32mif\u001b[0m \u001b[0mmulti_output\u001b[0m\u001b[0;34m:\u001b[0m\u001b[0;34m\u001b[0m\u001b[0m\n\u001b[1;32m    575\u001b[0m         y = check_array(y, 'csr', force_all_finite=True, ensure_2d=False,\n\u001b[0;32m--> 576\u001b[0;31m                         dtype=None)\n\u001b[0m\u001b[1;32m    577\u001b[0m     \u001b[0;32melse\u001b[0m\u001b[0;34m:\u001b[0m\u001b[0;34m\u001b[0m\u001b[0m\n\u001b[1;32m    578\u001b[0m         \u001b[0my\u001b[0m \u001b[0;34m=\u001b[0m \u001b[0mcolumn_or_1d\u001b[0m\u001b[0;34m(\u001b[0m\u001b[0my\u001b[0m\u001b[0;34m,\u001b[0m \u001b[0mwarn\u001b[0m\u001b[0;34m=\u001b[0m\u001b[0;32mTrue\u001b[0m\u001b[0;34m)\u001b[0m\u001b[0;34m\u001b[0m\u001b[0m\n",
      "\u001b[0;32m~/anaconda3/envs/opensim-rl/lib/python3.6/site-packages/sklearn/utils/validation.py\u001b[0m in \u001b[0;36mcheck_array\u001b[0;34m(array, accept_sparse, dtype, order, copy, force_all_finite, ensure_2d, allow_nd, ensure_min_samples, ensure_min_features, warn_on_dtype, estimator)\u001b[0m\n\u001b[1;32m    451\u001b[0m                              % (array.ndim, estimator_name))\n\u001b[1;32m    452\u001b[0m         \u001b[0;32mif\u001b[0m \u001b[0mforce_all_finite\u001b[0m\u001b[0;34m:\u001b[0m\u001b[0;34m\u001b[0m\u001b[0m\n\u001b[0;32m--> 453\u001b[0;31m             \u001b[0m_assert_all_finite\u001b[0m\u001b[0;34m(\u001b[0m\u001b[0marray\u001b[0m\u001b[0;34m)\u001b[0m\u001b[0;34m\u001b[0m\u001b[0m\n\u001b[0m\u001b[1;32m    454\u001b[0m \u001b[0;34m\u001b[0m\u001b[0m\n\u001b[1;32m    455\u001b[0m     \u001b[0mshape_repr\u001b[0m \u001b[0;34m=\u001b[0m \u001b[0m_shape_repr\u001b[0m\u001b[0;34m(\u001b[0m\u001b[0marray\u001b[0m\u001b[0;34m.\u001b[0m\u001b[0mshape\u001b[0m\u001b[0;34m)\u001b[0m\u001b[0;34m\u001b[0m\u001b[0m\n",
      "\u001b[0;32m~/anaconda3/envs/opensim-rl/lib/python3.6/site-packages/sklearn/utils/validation.py\u001b[0m in \u001b[0;36m_assert_all_finite\u001b[0;34m(X)\u001b[0m\n\u001b[1;32m     42\u001b[0m             and not np.isfinite(X).all()):\n\u001b[1;32m     43\u001b[0m         raise ValueError(\"Input contains NaN, infinity\"\n\u001b[0;32m---> 44\u001b[0;31m                          \" or a value too large for %r.\" % X.dtype)\n\u001b[0m\u001b[1;32m     45\u001b[0m \u001b[0;34m\u001b[0m\u001b[0m\n\u001b[1;32m     46\u001b[0m \u001b[0;34m\u001b[0m\u001b[0m\n",
      "\u001b[0;31mValueError\u001b[0m: Input contains NaN, infinity or a value too large for dtype('float64')."
     ]
    }
   ],
   "source": [
    "action0 = np.zeros(dim_act)\n",
    "for i in range(episode):\n",
    "    # Initialize a new simulation\n",
    "    state = np.array(env.reset())\n",
    "    reward = 0\n",
    "\n",
    "    # Run the simulation until the framework stop it\n",
    "    done = False\n",
    "    while not done:\n",
    "        '''\n",
    "        # get the action based on Q function and epsilon greedy\n",
    "        if (rng.rand() < epsilon) :\n",
    "            # exploration: randomly choose an action\n",
    "            action = rng.uniform(action_low, action_high, dim_act)\n",
    "        else:\n",
    "            # exploitation: choose the action maximumizing Q function\n",
    "            action_func = lambda x: -qf(state, x)\n",
    "            bnds = Bounds(action_low, action_high)\n",
    "            res = minimize(action_func, action0, method='SLSQP', bounds=bnds)\n",
    "            action = res.x\n",
    "        '''\n",
    "        # randomly choose an action\n",
    "        action = rng.uniform(action_low, action_high, dim_act)\n",
    "\n",
    "        # evolve the system to the next time step\n",
    "        state_, reward, done, info = env.step(action)\n",
    "        state_ = np.array(state_)\n",
    "\n",
    "        # get maximum of Q(s', a') under given s'\n",
    "        action_func = lambda x: -qf(state_, x)\n",
    "        res = minimize(action_func, action0, method='SLSQP', bounds=bnds)\n",
    "        # note: https://en.wikipedia.org/wiki/Sequential_quadratic_programming\n",
    "        max_q = -res.fun # max Q(s', a')\n",
    "        \n",
    "        # {s, a} and [r + gamma * max_a` Q(s`, a`)]\n",
    "        xx = np.concatenate((state, action))\n",
    "        yy = np.array(reward + discount * max_q)\n",
    "        # put the data point into dataset\n",
    "        xdata = np.vstack((xdata, xx))\n",
    "        ydata = np.vstack((ydata, yy))\n",
    "\n",
    "        # Do linear fitting and update Q function coefficients\n",
    "        model.fit(xdata, ydata)\n",
    "        qf.set_coeff(model.coef_.T)\n",
    "        \n",
    "        # Update Q values with new coefficients\n",
    "        ydata = np.sum(xdata*model.coef_, axis=1, keepdims=True)\n",
    "\n",
    "        # Update state\n",
    "        state = state_"
   ]
  },
  {
   "cell_type": "code",
   "execution_count": 24,
   "metadata": {},
   "outputs": [],
   "source": [
    "data = np.hstack((xdata, ydata))\n",
    "np.savetxt(\"data.csv\", data, delimiter=\",\")"
   ]
  },
  {
   "cell_type": "code",
   "execution_count": null,
   "metadata": {},
   "outputs": [],
   "source": []
  }
 ],
 "metadata": {
  "kernelspec": {
   "display_name": "py3_osim_rl",
   "language": "python",
   "name": "opensim-rl"
  },
  "language_info": {
   "codemirror_mode": {
    "name": "ipython",
    "version": 3
   },
   "file_extension": ".py",
   "mimetype": "text/x-python",
   "name": "python",
   "nbconvert_exporter": "python",
   "pygments_lexer": "ipython3",
   "version": "3.6.1"
  }
 },
 "nbformat": 4,
 "nbformat_minor": 2
}
