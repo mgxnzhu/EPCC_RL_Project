{
 "cells": [
  {
   "cell_type": "markdown",
   "metadata": {},
   "source": [
    "# Policy Gradient\n",
    "\n",
    "Unlike value-based algorithms (Q-learning and Sarsa), policy gradient can directly output the action rather than the value of action. Hence, policy gradient bypassed the value function and optimized policy function.\n",
    "\n",
    "## REINFORCE\n",
    "\n",
    "REINFORCE updates parameters in the direction of $\\nabla_{\\theta} log\\pi(s_t, a_t) r_t$. It is reasonable that the parameter needs substantially change (large $\\nabla_{\\theta} log\\pi(s_t, a_t) r_t$) when we choose a rare action (small $\\pi(s_t, a_t)$, large $log\\pi(s_t, a_t)$) and the env gives a large reward $r_t$.\n",
    "\n",
    "init parameter $\\theta$\n",
    "\n",
    "for each episode $\\{s_0, s_1, ..., s_t, a_0, a_1, ..., a_t, r_0, r_1, ..., r_t\\}$ from $\\pi_{\\theta}(s, a)$\n",
    "\n",
    "$~~~~$for each timestamp $\\tau$ till $\\tau = t - 1$\n",
    "    \n",
    "$~~~~~~~~$$\\theta = \\theta + \\alpha \\nabla_{\\theta} log\\pi(s_{\\tau}, a_{\\tau}) r_{\\tau}$\n",
    "\n",
    "output $\\pi_{\\theta}(s, a)$"
   ]
  },
  {
   "cell_type": "code",
   "execution_count": 5,
   "metadata": {},
   "outputs": [
    {
     "name": "stdout",
     "output_type": "stream",
     "text": [
      "\u001b[33mWARN: gym.spaces.Box autodetected dtype as <class 'numpy.float32'>. Please provide explicit dtype.\u001b[0m\n",
      "\u001b[33mWARN: gym.spaces.Box autodetected dtype as <class 'numpy.float32'>. Please provide explicit dtype.\u001b[0m\n"
     ]
    }
   ],
   "source": [
    "from osim.env import L2RunEnv\n",
    "import numpy as np\n",
    "import tensorflow as tf\n",
    "\n",
    "DEFAULT_SEED = 20180101\n",
    "rng = np.random.RandomState(DEFAULT_SEED)\n",
    "\n",
    "env = L2RunEnv(visualize=False)\n",
    "# Obtain the dimension observation space and action space\n",
    "dim_obs = env.get_observation_space_size()\n",
    "dim_act = env.get_action_space_size()\n",
    "\n",
    "# Set the range of action values\n",
    "action_low = env.action_space.low\n",
    "action_high = env.action_space.high # bounds of action space by env\n",
    "\n",
    "# Set hyperparameters\n",
    "discount = 1e-2\n",
    "learning_rate = 1e-4 \n",
    "epsilon = 0.1\n",
    "n_episode = 2000\n",
    "batch_size = 10"
   ]
  },
  {
   "cell_type": "code",
   "execution_count": null,
   "metadata": {},
   "outputs": [],
   "source": []
  }
 ],
 "metadata": {
  "kernelspec": {
   "display_name": "py3_osim_rl",
   "language": "python",
   "name": "opensim-rl"
  },
  "language_info": {
   "codemirror_mode": {
    "name": "ipython",
    "version": 3
   },
   "file_extension": ".py",
   "mimetype": "text/x-python",
   "name": "python",
   "nbconvert_exporter": "python",
   "pygments_lexer": "ipython3",
   "version": "3.6.1"
  }
 },
 "nbformat": 4,
 "nbformat_minor": 2
}
