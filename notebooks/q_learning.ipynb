{
 "cells": [
  {
   "cell_type": "markdown",
   "metadata": {},
   "source": [
    "# Q learning implementation"
   ]
  },
  {
   "cell_type": "code",
   "execution_count": 1,
   "metadata": {},
   "outputs": [
    {
     "name": "stdout",
     "output_type": "stream",
     "text": [
      "\u001b[33mWARN: gym.spaces.Box autodetected dtype as <class 'numpy.float32'>. Please provide explicit dtype.\u001b[0m\n",
      "\u001b[33mWARN: gym.spaces.Box autodetected dtype as <class 'numpy.float32'>. Please provide explicit dtype.\u001b[0m\n"
     ]
    }
   ],
   "source": [
    "from osim.env import L2RunEnv\n",
    "import numpy as np\n",
    "from scipy.optimize import minimize, Bounds\n",
    "from sklearn.linear_model import LinearRegression\n",
    "\n",
    "DEFAULT_SEED = 20180101\n",
    "rng = np.random.RandomState(DEFAULT_SEED)\n",
    "\n",
    "env = L2RunEnv(visualize=False)\n",
    "# Obtain the dimension observation space and action space\n",
    "dim_obs = env.get_observation_space_size()\n",
    "dim_act = env.get_action_space_size()\n",
    "\n",
    "# Set the range of action values\n",
    "action_low = -1\n",
    "action_high = 1\n",
    "\n",
    "# Set hyperparameters\n",
    "discount = 1\n",
    "epsilon = 0.1\n",
    "episode = 2000"
   ]
  },
  {
   "cell_type": "code",
   "execution_count": 2,
   "metadata": {},
   "outputs": [],
   "source": [
    "class qfunction:\n",
    "    def __init__(self, dim_obs, dim_act, rng=None):\n",
    "        if rng is None:\n",
    "            rng = np.random.RandomState(DEFAULT_SEED)\n",
    "        self.rng = rng\n",
    "        \n",
    "        self.dim_obs = dim_obs\n",
    "        self.dim_act = dim_act\n",
    "        self.obs_coeff = rng.uniform(-1, 1, dim_obs)\n",
    "        self.act_coeff = rng.uniform(-1, 1, dim_act)\n",
    "        \n",
    "    def __call__(self, obs, act):\n",
    "        obs_term = obs * self.obs_coeff\n",
    "        act_term = act * self.act_coeff\n",
    "        res = np.sum(obs_term) + np.sum(act_term)\n",
    "        return res\n",
    "    \n",
    "    def action_func(self, obs):\n",
    "        func = lambda act: -self(obs, act) # take opposite value for minimization\n",
    "        return func\n",
    "    \n",
    "    def update(self, coeff):\n",
    "        self.obs_coeff = coeff[:self.dim_obs]\n",
    "        self.act_coeff = coeff[self.dim_obs:]"
   ]
  },
  {
   "cell_type": "code",
   "execution_count": 3,
   "metadata": {
    "scrolled": true
   },
   "outputs": [],
   "source": [
    "# Initialize Q function\n",
    "qf = qfunction(dim_obs, dim_act)\n",
    "model = LinearRegression(fit_intercept=False)\n",
    "# Initialize the dataset\n",
    "xdata = np.zeros((dim_obs+dim_act,))\n",
    "ydata = np.zeros((1,))"
   ]
  },
  {
   "cell_type": "code",
   "execution_count": null,
   "metadata": {
    "scrolled": true
   },
   "outputs": [],
   "source": [
    "action0 = np.zeros(dim_act)\n",
    "for i in range(episode):\n",
    "    # Initialize a new simulation\n",
    "    state = env.reset()\n",
    "    reward = 0\n",
    "\n",
    "    # Run the simulation until the framework stop it\n",
    "    done = False\n",
    "    while not done:\n",
    "        # get the action based on Q function and epsilon greedy\n",
    "        if (rng.rand() < epsilon) :\n",
    "            # exploration\n",
    "            action = rng.uniform(action_low, action_high, dim_act)\n",
    "        else:\n",
    "            # exploitation\n",
    "            action_func = lambda x: -qf(state, x)\n",
    "            bnds = Bounds(action_low, action_high)\n",
    "            res = minimize(action_func, action0, method='SLSQP', bounds=bnds)\n",
    "            action = res.x\n",
    "\n",
    "        # evolve the system to the next time stamp\n",
    "        state_, reward, done, info = env.step(action)\n",
    "\n",
    "        # Obtain {s, a} and [r + gamma * max_a` Q(s`, a`)]\n",
    "        action_func = lambda x: -qf(state_, x)\n",
    "        bnds = Bounds(-1,1)\n",
    "        res = minimize(action_func, action0, method='SLSQP', bounds=bnds)\n",
    "        max_q = -res.fun\n",
    "        yy = np.array(reward + discount * max_q)\n",
    "        xx = np.concatenate((state, action))\n",
    "        xdata = np.vstack((xdata, xx))\n",
    "        ydata = np.vstack((ydata, yy))\n",
    "\n",
    "        # Do linear regression\n",
    "        model.fit(xdata, ydata)\n",
    "        qf.updata(model.coef_)\n",
    "\n",
    "        # Update state\n",
    "        state = state_"
   ]
  },
  {
   "cell_type": "code",
   "execution_count": null,
   "metadata": {},
   "outputs": [],
   "source": [
    "np.save(\"model.npy\", model.coef_)"
   ]
  }
 ],
 "metadata": {
  "kernelspec": {
   "display_name": "py3_osim_rl",
   "language": "python",
   "name": "opensim-rl"
  },
  "language_info": {
   "codemirror_mode": {
    "name": "ipython",
    "version": 3
   },
   "file_extension": ".py",
   "mimetype": "text/x-python",
   "name": "python",
   "nbconvert_exporter": "python",
   "pygments_lexer": "ipython3",
   "version": "3.6.1"
  }
 },
 "nbformat": 4,
 "nbformat_minor": 2
}
