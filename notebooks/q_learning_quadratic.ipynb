{
 "cells": [
  {
   "cell_type": "markdown",
   "metadata": {},
   "source": [
    "# Q learning - Non-linear Regression Attempt\n",
    "In Q learning, the update rule is:\n",
    "$$Q(\\mathbf{s},\\mathbf{a}) = Q(\\mathbf{s},\\mathbf{a}) + \\alpha (r+\\gamma max_{\\mathbf{a}'} Q(\\mathbf{s}',\\mathbf{a}') - Q(\\mathbf{s},\\mathbf{a}))$$\n",
    "If the Q function reached the best, there would be nothing more to learn. Hence, we wanted to make $r+\\gamma max_{\\mathbf{a}'} Q(\\mathbf{s}',\\mathbf{a}') - Q(\\mathbf{s},\\mathbf{a})$ close to 0. Then the problem became fitting the dataset: [$r+\\gamma max_{\\mathbf{a}'} Q(\\mathbf{s}',\\mathbf{a}')$, $Q(\\mathbf{s},\\mathbf{a})$]. In every step of environment evolution, the [$r+\\gamma max_{\\mathbf{a}'} Q(\\mathbf{s}',\\mathbf{a}')$, $Q(\\mathbf{s},\\mathbf{a})$] pair can form a dataset for fitting.\n",
    "When using linear attempt, the problem is that the maximum Q is always at the bound of the action space, and the maximum value does not depend on state $\\mathbf{s}$. To avoid these, we wanted a Q function with non-zero second order derivative, and the simplest one is quadratic function.\n",
    "$$Q(s,a)=\\sum_{i\\leq j}a_{ij}\\mathbf{V}_i\\mathbf{V}_j, \\mathbf{V}=(\\mathbf{s},\\mathbf{a})$$\n",
    "or\n",
    "$$Q(s,a)=\\sum_{i,j}b_{ij}\\mathbf{V}_i\\mathbf{V}_j, \\mathbf{V}=(\\mathbf{s},\\mathbf{a})\\ and\\  b_{ij}=b_{ji}$$"
   ]
  },
  {
   "cell_type": "code",
   "execution_count": 1,
   "metadata": {},
   "outputs": [
    {
     "name": "stdout",
     "output_type": "stream",
     "text": [
      "\u001b[33mWARN: gym.spaces.Box autodetected dtype as <class 'numpy.float32'>. Please provide explicit dtype.\u001b[0m\n",
      "\u001b[33mWARN: gym.spaces.Box autodetected dtype as <class 'numpy.float32'>. Please provide explicit dtype.\u001b[0m\n"
     ]
    }
   ],
   "source": [
    "from osim.env import L2RunEnv\n",
    "import numpy as np\n",
    "from scipy.optimize import minimize, Bounds\n",
    "from sklearn.linear_model import LinearRegression, SGDRegressor\n",
    "\n",
    "DEFAULT_SEED = 20180101\n",
    "rng = np.random.RandomState(DEFAULT_SEED)\n",
    "\n",
    "env = L2RunEnv(visualize=False)\n",
    "# Obtain the dimension observation space and action space\n",
    "dim_obs = env.get_observation_space_size()\n",
    "dim_act = env.get_action_space_size()\n",
    "\n",
    "# Set the range of action values\n",
    "action_low = env.action_space.low\n",
    "action_high = env.action_space.high # bounds of action space by env\n",
    "bnds = Bounds(action_low, action_high)\n",
    "\n",
    "# Set hyperparameters\n",
    "discount = 1e-2\n",
    "learning_rate = 1e-4 \n",
    "epsilon = 0.9\n",
    "episode = 50\n",
    "batch_size = 10"
   ]
  },
  {
   "cell_type": "markdown",
   "metadata": {},
   "source": [
    "## Q function\n",
    "Q function in this section is the linear combination of productions of each states and action components, since we want the state can affect the maximum of action: $\\frac{\\partial^2Q}{\\partial s_i \\partial a_j}\\neq 0$. We stored the coefficients of these quadratic terms and updated them during linear fitting, which fit the data pair $[\\{V_iV_j\\}, r+\\gamma  max(Q)]$, where $\\mathbf{V}=(\\mathbf{s}, \\mathbf{a})$."
   ]
  },
  {
   "cell_type": "code",
   "execution_count": 9,
   "metadata": {},
   "outputs": [],
   "source": [
    "class qfunction:\n",
    "    # random initialization\n",
    "    def __init__(self, dim_obs, dim_act, rng=None):\n",
    "        if rng is None:\n",
    "            rng = np.random.RandomState(DEFAULT_SEED)\n",
    "        self.rng = rng\n",
    "        self.dim = (dim_obs + dim_act + 1) * (dim_obs + dim_act) // 2\n",
    "        self.model = SGDRegressor(penalty='none', learning_rate='constant', eta0=learning_rate, random_state=rng, max_iter=1)\n",
    "        self.model.coef_ = rng.rand(self.dim)\n",
    "        self.model.intercept_ = rng.rand(1,)\n",
    "\n",
    "    def __call__(self, obs, act):\n",
    "        input_vec = np.concatenate((obs,act))\n",
    "        X = quadartic(input_vec)\n",
    "        res = np.sum(X * self.model.coef_) + np.asscalar(self.model.intercept_)\n",
    "\n",
    "    def get_maxq(self, state_):\n",
    "        # get maximum of Q(s', a') under given s'\n",
    "        action_func = lambda x: -self(state_, x)\n",
    "        action0 = 0.5 * np.ones(self.dim_act) # the center of action space\n",
    "        res = minimize(action_func, action0, method='SLSQP', bounds=bnds)\n",
    "        # note: https://en.wikipedia.org/wiki/Sequential_quadratic_programming\n",
    "        max_q = -res.fun # max Q(s', a')\n",
    "        return max_q\n",
    "        \n",
    "def quadartic(vec):\n",
    "    # convert (x1, x2, x3, ...) to (x1^2, x1x2, x1x3, ..., x2^2, x2x3, ...)\n",
    "    if not isinstance(vec, np.ndarray):\n",
    "        vec = np.array(vec)\n",
    "    res = []\n",
    "    for i, x in enumerate(vec):\n",
    "        res = np.concatenate((res, x*vec[i:]))\n",
    "    return res"
   ]
  },
  {
   "cell_type": "code",
   "execution_count": 10,
   "metadata": {
    "scrolled": true
   },
   "outputs": [],
   "source": [
    "# Initialize Q function\n",
    "qf = qfunction(dim_obs, dim_act)\n",
    "\n",
    "# Initialize the dataset:(xdata, ydata)\n",
    "xdata = np.zeros((batch_size, qf.dim))\n",
    "ydata = np.zeros((batch_size, ))"
   ]
  },
  {
   "cell_type": "code",
   "execution_count": 12,
   "metadata": {
    "scrolled": false
   },
   "outputs": [
    {
     "ename": "ValueError",
     "evalue": "Input contains NaN, infinity or a value too large for dtype('float64').",
     "output_type": "error",
     "traceback": [
      "\u001b[0;31m---------------------------------------------------------------------------\u001b[0m",
      "\u001b[0;31mValueError\u001b[0m                                Traceback (most recent call last)",
      "\u001b[0;32m<ipython-input-12-9201c91baafe>\u001b[0m in \u001b[0;36m<module>\u001b[0;34m()\u001b[0m\n\u001b[1;32m     36\u001b[0m \u001b[0;34m\u001b[0m\u001b[0m\n\u001b[1;32m     37\u001b[0m         \u001b[0;31m# Do linear regression and update Q function\u001b[0m\u001b[0;34m\u001b[0m\u001b[0;34m\u001b[0m\u001b[0m\n\u001b[0;32m---> 38\u001b[0;31m         \u001b[0mmodel\u001b[0m\u001b[0;34m.\u001b[0m\u001b[0mfit\u001b[0m\u001b[0;34m(\u001b[0m\u001b[0mxdata\u001b[0m\u001b[0;34m,\u001b[0m \u001b[0mydata\u001b[0m\u001b[0;34m)\u001b[0m\u001b[0;34m\u001b[0m\u001b[0m\n\u001b[0m\u001b[1;32m     39\u001b[0m         \u001b[0mqf\u001b[0m\u001b[0;34m.\u001b[0m\u001b[0mupdate\u001b[0m\u001b[0;34m(\u001b[0m\u001b[0mmodel\u001b[0m\u001b[0;34m.\u001b[0m\u001b[0mcoef_\u001b[0m\u001b[0;34m.\u001b[0m\u001b[0mT\u001b[0m\u001b[0;34m)\u001b[0m\u001b[0;34m\u001b[0m\u001b[0m\n\u001b[1;32m     40\u001b[0m \u001b[0;34m\u001b[0m\u001b[0m\n",
      "\u001b[0;32m~/anaconda3/envs/opensim-rl/lib/python3.6/site-packages/sklearn/linear_model/base.py\u001b[0m in \u001b[0;36mfit\u001b[0;34m(self, X, y, sample_weight)\u001b[0m\n\u001b[1;32m    480\u001b[0m         \u001b[0mn_jobs_\u001b[0m \u001b[0;34m=\u001b[0m \u001b[0mself\u001b[0m\u001b[0;34m.\u001b[0m\u001b[0mn_jobs\u001b[0m\u001b[0;34m\u001b[0m\u001b[0m\n\u001b[1;32m    481\u001b[0m         X, y = check_X_y(X, y, accept_sparse=['csr', 'csc', 'coo'],\n\u001b[0;32m--> 482\u001b[0;31m                          y_numeric=True, multi_output=True)\n\u001b[0m\u001b[1;32m    483\u001b[0m \u001b[0;34m\u001b[0m\u001b[0m\n\u001b[1;32m    484\u001b[0m         \u001b[0;32mif\u001b[0m \u001b[0msample_weight\u001b[0m \u001b[0;32mis\u001b[0m \u001b[0;32mnot\u001b[0m \u001b[0;32mNone\u001b[0m \u001b[0;32mand\u001b[0m \u001b[0mnp\u001b[0m\u001b[0;34m.\u001b[0m\u001b[0matleast_1d\u001b[0m\u001b[0;34m(\u001b[0m\u001b[0msample_weight\u001b[0m\u001b[0;34m)\u001b[0m\u001b[0;34m.\u001b[0m\u001b[0mndim\u001b[0m \u001b[0;34m>\u001b[0m \u001b[0;36m1\u001b[0m\u001b[0;34m:\u001b[0m\u001b[0;34m\u001b[0m\u001b[0m\n",
      "\u001b[0;32m~/anaconda3/envs/opensim-rl/lib/python3.6/site-packages/sklearn/utils/validation.py\u001b[0m in \u001b[0;36mcheck_X_y\u001b[0;34m(X, y, accept_sparse, dtype, order, copy, force_all_finite, ensure_2d, allow_nd, multi_output, ensure_min_samples, ensure_min_features, y_numeric, warn_on_dtype, estimator)\u001b[0m\n\u001b[1;32m    574\u001b[0m     \u001b[0;32mif\u001b[0m \u001b[0mmulti_output\u001b[0m\u001b[0;34m:\u001b[0m\u001b[0;34m\u001b[0m\u001b[0m\n\u001b[1;32m    575\u001b[0m         y = check_array(y, 'csr', force_all_finite=True, ensure_2d=False,\n\u001b[0;32m--> 576\u001b[0;31m                         dtype=None)\n\u001b[0m\u001b[1;32m    577\u001b[0m     \u001b[0;32melse\u001b[0m\u001b[0;34m:\u001b[0m\u001b[0;34m\u001b[0m\u001b[0m\n\u001b[1;32m    578\u001b[0m         \u001b[0my\u001b[0m \u001b[0;34m=\u001b[0m \u001b[0mcolumn_or_1d\u001b[0m\u001b[0;34m(\u001b[0m\u001b[0my\u001b[0m\u001b[0;34m,\u001b[0m \u001b[0mwarn\u001b[0m\u001b[0;34m=\u001b[0m\u001b[0;32mTrue\u001b[0m\u001b[0;34m)\u001b[0m\u001b[0;34m\u001b[0m\u001b[0m\n",
      "\u001b[0;32m~/anaconda3/envs/opensim-rl/lib/python3.6/site-packages/sklearn/utils/validation.py\u001b[0m in \u001b[0;36mcheck_array\u001b[0;34m(array, accept_sparse, dtype, order, copy, force_all_finite, ensure_2d, allow_nd, ensure_min_samples, ensure_min_features, warn_on_dtype, estimator)\u001b[0m\n\u001b[1;32m    451\u001b[0m                              % (array.ndim, estimator_name))\n\u001b[1;32m    452\u001b[0m         \u001b[0;32mif\u001b[0m \u001b[0mforce_all_finite\u001b[0m\u001b[0;34m:\u001b[0m\u001b[0;34m\u001b[0m\u001b[0m\n\u001b[0;32m--> 453\u001b[0;31m             \u001b[0m_assert_all_finite\u001b[0m\u001b[0;34m(\u001b[0m\u001b[0marray\u001b[0m\u001b[0;34m)\u001b[0m\u001b[0;34m\u001b[0m\u001b[0m\n\u001b[0m\u001b[1;32m    454\u001b[0m \u001b[0;34m\u001b[0m\u001b[0m\n\u001b[1;32m    455\u001b[0m     \u001b[0mshape_repr\u001b[0m \u001b[0;34m=\u001b[0m \u001b[0m_shape_repr\u001b[0m\u001b[0;34m(\u001b[0m\u001b[0marray\u001b[0m\u001b[0;34m.\u001b[0m\u001b[0mshape\u001b[0m\u001b[0;34m)\u001b[0m\u001b[0;34m\u001b[0m\u001b[0m\n",
      "\u001b[0;32m~/anaconda3/envs/opensim-rl/lib/python3.6/site-packages/sklearn/utils/validation.py\u001b[0m in \u001b[0;36m_assert_all_finite\u001b[0;34m(X)\u001b[0m\n\u001b[1;32m     42\u001b[0m             and not np.isfinite(X).all()):\n\u001b[1;32m     43\u001b[0m         raise ValueError(\"Input contains NaN, infinity\"\n\u001b[0;32m---> 44\u001b[0;31m                          \" or a value too large for %r.\" % X.dtype)\n\u001b[0m\u001b[1;32m     45\u001b[0m \u001b[0;34m\u001b[0m\u001b[0m\n\u001b[1;32m     46\u001b[0m \u001b[0;34m\u001b[0m\u001b[0m\n",
      "\u001b[0;31mValueError\u001b[0m: Input contains NaN, infinity or a value too large for dtype('float64')."
     ]
    }
   ],
   "source": [
    "action0 = 0.5 * np.ones(qf.dim_act)\n",
    "for i in range(episode):\n",
    "    # Initialize a new simulation\n",
    "    state = np.array(env.reset())\n",
    "    reward = 0\n",
    "    # Run the simulation until the framework stop it\n",
    "    done = False\n",
    "    j = 0 # index of data in batch\n",
    "    while not done:\n",
    "        \n",
    "        # get the action based on Q function and epsilon greedy\n",
    "        if (rng.rand() < epsilon) :\n",
    "            # exploration: randomly choose an action\n",
    "            action = rng.uniform(action_low, action_high, dim_act)\n",
    "        else:\n",
    "            # exploitation: choose the action maximumizing Q function\n",
    "            action_func = lambda x: -qf(state, x)\n",
    "            res = minimize(action_func, action0, method='SLSQP', bounds=bnds)\n",
    "            action = res.x\n",
    "        '''\n",
    "        # randomly choose an action\n",
    "        action = rng.uniform(action_low, action_high, dim_act)\n",
    "        '''\n",
    "\n",
    "        # evolve the system to the next time step\n",
    "        state_, reward, done, info = env.step(action)\n",
    "        state_ = np.array(state_)\n",
    "\n",
    "        max_q = qf.get_maxq(state_)\n",
    "        \n",
    "        # {s, a} and [r + gamma * max_a` Q(s`, a`)]\n",
    "        xx = np.concatenate((state, action))\n",
    "        yy = np.array(reward + discount * max_q)\n",
    "        \n",
    "        # put the data point into data batch\n",
    "        xdata[j] = xx\n",
    "        ydata[j] = yy\n",
    "        \n",
    "        if (j + 1) == batch_size :\n",
    "            # Do linear fitting and update Q function coefficients\n",
    "            qf.model.partial_fit(xdata, ydata)\n",
    "            # reset count for next data batch\n",
    "            j = -1\n",
    "        \n",
    "        # Update state\n",
    "        state = state_\n",
    "        j = j + 1"
   ]
  },
  {
   "cell_type": "code",
   "execution_count": null,
   "metadata": {},
   "outputs": [],
   "source": []
  }
 ],
 "metadata": {
  "kernelspec": {
   "display_name": "py3_osim_rl",
   "language": "python",
   "name": "opensim-rl"
  },
  "language_info": {
   "codemirror_mode": {
    "name": "ipython",
    "version": 3
   },
   "file_extension": ".py",
   "mimetype": "text/x-python",
   "name": "python",
   "nbconvert_exporter": "python",
   "pygments_lexer": "ipython3",
   "version": "3.6.1"
  }
 },
 "nbformat": 4,
 "nbformat_minor": 2
}
