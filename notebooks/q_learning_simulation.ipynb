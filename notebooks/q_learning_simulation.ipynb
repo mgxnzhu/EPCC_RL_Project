{
 "cells": [
  {
   "cell_type": "code",
   "execution_count": 5,
   "metadata": {},
   "outputs": [
    {
     "name": "stdout",
     "output_type": "stream",
     "text": [
      "\u001b[33mWARN: gym.spaces.Box autodetected dtype as <class 'numpy.float32'>. Please provide explicit dtype.\u001b[0m\n",
      "\u001b[33mWARN: gym.spaces.Box autodetected dtype as <class 'numpy.float32'>. Please provide explicit dtype.\u001b[0m\n"
     ]
    }
   ],
   "source": [
    "from osim.env import L2RunEnv\n",
    "import numpy as np\n",
    "from scipy.optimize import minimize, Bounds\n",
    "\n",
    "DEFAULT_SEED = 20180101\n",
    "rng = np.random.RandomState(DEFAULT_SEED)\n",
    "\n",
    "env = L2RunEnv(visualize=False)\n",
    "# Obtain the dimension observation space and action space\n",
    "dim_obs = env.get_observation_space_size()\n",
    "dim_act = env.get_action_space_size()\n",
    "\n",
    "# Set the range of action values\n",
    "action_low = env.action_space.low\n",
    "action_high = env.action_space.high # bounds of action space by env\n",
    "bnds = Bounds(action_low, action_high)"
   ]
  },
  {
   "cell_type": "code",
   "execution_count": 8,
   "metadata": {
    "scrolled": true
   },
   "outputs": [],
   "source": [
    "model = np.genfromtxt(\"model.csv\", delimiter=',')\n",
    "coef_ = model[:-1]\n",
    "intercept_ = model[-1]\n",
    "\n",
    "def qfunc(obs, act):\n",
    "    X = np.concatenate((obs, act))\n",
    "    res = np.sum(X * coef_) + np.asscalar(intercept_)\n",
    "    return res\n",
    "\n",
    "def get_maxq(state_):\n",
    "    # get maximum of Q(s', a') under given s'\n",
    "    action_func = lambda x: -qfunc(state_, x)\n",
    "    action0 = 0.5 * np.ones(dim_act) # the center of action space\n",
    "    res = minimize(action_func, action0, method='SLSQP', bounds=bnds)\n",
    "    # note: https://en.wikipedia.org/wiki/Sequential_quadratic_programming\n",
    "    return (-res.fun, res.x)"
   ]
  },
  {
   "cell_type": "code",
   "execution_count": 9,
   "metadata": {},
   "outputs": [],
   "source": [
    "# Initialize a new simulation\n",
    "state = env.reset()\n",
    "reward = 0\n",
    "\n",
    "# Run the simulation until the framework stop it\n",
    "done = False\n",
    "while not done:\n",
    "    # get the action based on Q function\n",
    "    max_q, action = get_maxq(state)\n",
    "\n",
    "    # evolve the system to the next time stamp\n",
    "    state, reward, done, info = env.step(action)"
   ]
  },
  {
   "cell_type": "code",
   "execution_count": null,
   "metadata": {},
   "outputs": [],
   "source": []
  }
 ],
 "metadata": {
  "kernelspec": {
   "display_name": "py3_osim_rl",
   "language": "python",
   "name": "opensim-rl"
  },
  "language_info": {
   "codemirror_mode": {
    "name": "ipython",
    "version": 3
   },
   "file_extension": ".py",
   "mimetype": "text/x-python",
   "name": "python",
   "nbconvert_exporter": "python",
   "pygments_lexer": "ipython3",
   "version": "3.6.1"
  }
 },
 "nbformat": 4,
 "nbformat_minor": 2
}
